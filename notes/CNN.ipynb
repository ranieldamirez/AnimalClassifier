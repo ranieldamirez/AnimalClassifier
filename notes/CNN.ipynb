{
 "cells": [
  {
   "cell_type": "markdown",
   "metadata": {},
   "source": [
    "# Convolutional Neural Networks (CNNs)\n",
    "*Prepared by Daniel Ramirez, Source: ChatGPT*\n"
   ]
  },
  {
   "cell_type": "markdown",
   "metadata": {},
   "source": [
    "### **What are CNNs?**"
   ]
  },
  {
   "cell_type": "markdown",
   "metadata": {},
   "source": [
    "CNNs are a type of deep learning model primarily used for processing structured array data like images. They're patricular powerful for computer vision tasks (e.g. image classification, object detection, and video analysis)."
   ]
  },
  {
   "cell_type": "markdown",
   "metadata": {},
   "source": [
    "![CNN visualized](./image_ref/pic1.jpeg)"
   ]
  },
  {
   "cell_type": "markdown",
   "metadata": {},
   "source": [
    "### **Key Components of CNNs**"
   ]
  },
  {
   "cell_type": "markdown",
   "metadata": {},
   "source": [
    "- Convolutional Layers: The core building blocks of CNNs. They apply a number of filters to the input to create feature maps that capture spatial hierarchies and patterns in data.\n",
    "\n",
    "- ReLU (Rectified Linear Unit): A non-linear activation function applied after each convolution operation, introducing non-linearity to the model, allowing it to learn more complex patterns. (e.g: `ReLU = max(0, x)`)\n",
    "\n",
    "- Pooling Layers: Used to reduce the spatial dimensions (width, height) of the input volume for the next convolutional layer. Common types include Max Pooling and Average Pooling.\n",
    "\n",
    "- Fully Connected Layers: These layers are traditional neural network layers where all neurons from the previous layer are connected to each neuron. They are typically used at the end of the network for classification purposes."
   ]
  },
  {
   "cell_type": "markdown",
   "metadata": {},
   "source": []
  },
  {
   "cell_type": "code",
   "execution_count": 7,
   "metadata": {},
   "outputs": [
    {
     "name": "stdout",
     "output_type": "stream",
     "text": [
      "Input Matrix: \n",
      "[[ 1  3  2  4]\n",
      " [ 5  7  6  8]\n",
      " [ 9 11 10 12]\n",
      " [13 15 14 16]]\n",
      "\n",
      " Output Matrix: \n",
      " [[ 7.  8.]\n",
      " [15. 16.]]\n"
     ]
    }
   ],
   "source": [
    "import numpy as np\n",
    "\n",
    "def max_pooling(input_matrix, pool_size, stride):\n",
    "    \"\"\"\n",
    "    Apply max pooling to a 2D input matrix.\n",
    "\n",
    "    :param input_matrix: 2D array of input values.\n",
    "    :param pool_size: Size of the pooling window (e.g., 2 for 2x2).\n",
    "    :param stride: Stride with which the window moves across the input.\n",
    "    :return: 2D array after max pooling.\n",
    "    \"\"\"\n",
    "    # Determine the size of the output matrix\n",
    "    output_shape = (\n",
    "        (input_matrix.shape[0] - pool_size) // stride + 1,\n",
    "        (input_matrix.shape[1] - pool_size) // stride + 1\n",
    "    )\n",
    "\n",
    "    # Initialize the output matrix\n",
    "    output_matrix = np.zeros(output_shape)\n",
    "\n",
    "    # Apply max pooling\n",
    "    for i in range(0, input_matrix.shape[0] - pool_size + 1, stride):\n",
    "        for j in range(0, input_matrix.shape[1] - pool_size + 1, stride):\n",
    "            output_matrix[i // stride, j // stride] = np.max(\n",
    "                input_matrix[i:i + pool_size, j:j + pool_size]\n",
    "            )\n",
    "\n",
    "    return output_matrix\n",
    "\n",
    "# Example input mat\n",
    "# rix\n",
    "input_matrix = np.array([\n",
    "    [1, 3, 2, 4],\n",
    "    [5, 7, 6, 8],\n",
    "    [9, 11, 10, 12],\n",
    "    [13, 15, 14, 16]\n",
    "])\n",
    "\n",
    "# Applying 2x2 max pooling with stride 2\n",
    "pooled_matrix = max_pooling(input_matrix, pool_size=2, stride=2)\n",
    "\n",
    "print('Input Matrix: \\n{0}\\n\\n Output Matrix: \\n {1}'.format(input_matrix, pooled_matrix))\n"
   ]
  },
  {
   "cell_type": "markdown",
   "metadata": {},
   "source": [
    "### How CNNs Work"
   ]
  },
  {
   "cell_type": "markdown",
   "metadata": {},
   "source": [
    "- CNNs take an input image, apply a series of convolutional, non-linear, pooling (downsampling), and fully connected layers, and produce an output.\n",
    "\n",
    "- Each layer extracts different features from the input, and this hierarchical feature extraction process helps the model make sense of the input data."
   ]
  },
  {
   "cell_type": "markdown",
   "metadata": {},
   "source": [
    "### Understanding Filters (Kernels) and Feature Maps"
   ]
  },
  {
   "cell_type": "markdown",
   "metadata": {},
   "source": [
    "- Filters are small matrices applied over the input data. They detect patterns such as edges, corners, colors etc.\n",
    "\n",
    "- When a filter is applied to the input, it creates a feature map that gives the activations of the filter at every spatial position"
   ]
  },
  {
   "cell_type": "markdown",
   "metadata": {},
   "source": [
    "### Stride and Padding"
   ]
  },
  {
   "cell_type": "markdown",
   "metadata": {},
   "source": [
    "- Stride: The number of pixels by which we slide the filter over the input matrix. A larger stride means the feature map will be smaller.\n",
    "\n",
    "- Padding: Sometimes added to the input matrix to ensure that the feature map remains the same size as the input."
   ]
  },
  {
   "cell_type": "markdown",
   "metadata": {},
   "source": [
    "### Advanced Layers"
   ]
  },
  {
   "cell_type": "markdown",
   "metadata": {},
   "source": [
    "- Dropout Layer: Helps with regularization by randomly setting a fraction of input units to 0 at each update during training, which helps to prevent overfitting.\n",
    "\n",
    "- Normalization Layers: Such as Batch Normalization, help stabilize and speed up learning."
   ]
  },
  {
   "cell_type": "markdown",
   "metadata": {},
   "source": []
  }
 ],
 "metadata": {
  "kernelspec": {
   "display_name": "Python 3",
   "language": "python",
   "name": "python3"
  },
  "language_info": {
   "codemirror_mode": {
    "name": "ipython",
    "version": 3
   },
   "file_extension": ".py",
   "mimetype": "text/x-python",
   "name": "python",
   "nbconvert_exporter": "python",
   "pygments_lexer": "ipython3",
   "version": "3.9.6"
  },
  "orig_nbformat": 4
 },
 "nbformat": 4,
 "nbformat_minor": 2
}
